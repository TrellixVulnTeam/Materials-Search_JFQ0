{
 "cells": [
  {
   "cell_type": "code",
   "execution_count": 240,
   "id": "educated-revolution",
   "metadata": {},
   "outputs": [],
   "source": [
    "import numpy as np\n",
    "from scipy.spatial import distance\n",
    "from scipy import special\n",
    "import matplotlib.pyplot as plt\n",
    "from skimage.morphology import flood_fill\n",
    "import torch\n",
    "from torch.autograd import gradcheck"
   ]
  },
  {
   "cell_type": "markdown",
   "id": "suffering-trigger",
   "metadata": {},
   "source": [
    "## Let's start with some random 'Atoms' on a 2D plane"
   ]
  },
  {
   "cell_type": "markdown",
   "id": "interested-juvenile",
   "metadata": {},
   "source": [
    "### Original Discrete Representation:"
   ]
  },
  {
   "cell_type": "code",
   "execution_count": 441,
   "id": "apparent-islam",
   "metadata": {},
   "outputs": [],
   "source": [
    "coords = np.random.random((10,2))"
   ]
  },
  {
   "cell_type": "code",
   "execution_count": 442,
   "id": "legislative-protocol",
   "metadata": {},
   "outputs": [
    {
     "name": "stdout",
     "output_type": "stream",
     "text": [
      "The discrete represntation shape is: (10, 2)\n"
     ]
    }
   ],
   "source": [
    "print(\"The discrete represntation shape is:\", coords.shape)"
   ]
  },
  {
   "cell_type": "code",
   "execution_count": 443,
   "id": "southwest-vintage",
   "metadata": {},
   "outputs": [
    {
     "data": {
      "text/plain": [
       "array([[0.00192413, 0.60985667],\n",
       "       [0.06293158, 0.59751764],\n",
       "       [0.74213633, 0.63266676],\n",
       "       [0.10890221, 0.3105655 ],\n",
       "       [0.41594754, 0.49970422],\n",
       "       [0.00466858, 0.22350218],\n",
       "       [0.9508733 , 0.13151188],\n",
       "       [0.82260498, 0.56472471],\n",
       "       [0.41077732, 0.04255736],\n",
       "       [0.03633231, 0.80353265]])"
      ]
     },
     "execution_count": 443,
     "metadata": {},
     "output_type": "execute_result"
    }
   ],
   "source": [
    "coords"
   ]
  },
  {
   "cell_type": "code",
   "execution_count": 444,
   "id": "straight-bacon",
   "metadata": {},
   "outputs": [
    {
     "data": {
      "text/plain": [
       "(0.0, 1.0)"
      ]
     },
     "execution_count": 444,
     "metadata": {},
     "output_type": "execute_result"
    },
    {
     "data": {
      "image/png": "[encoded data removed]",
      "text/plain": [
       "<Figure size 432x288 with 1 Axes>"
      ]
     },
     "metadata": {
      "needs_background": "light"
     },
     "output_type": "display_data"
    }
   ],
   "source": [
    "plt.scatter(coords[:,0],coords[:,1])\n",
    "plt.ylim(0,1)\n",
    "plt.xlim(0,1)"
   ]
  },
  {
   "cell_type": "markdown",
   "id": "upset-positive",
   "metadata": {},
   "source": [
    "## Continuous Representation:\n",
    "\n",
    "#### Let's do the 'forward' step of representing the coordinates as a 2D grid i.e. image"
   ]
  },
  {
   "cell_type": "code",
   "execution_count": 447,
   "id": "indirect-swedish",
   "metadata": {},
   "outputs": [],
   "source": [
    "def coord_to_grid(coords, variance=0.04, grid_size=32):\n",
    "    x_coords = np.linspace(0., 1, grid_size+1)\n",
    "    y_coords = np.linspace(0., 1, grid_size+1)\n",
    "\n",
    "    x_a, y_a = np.meshgrid(x_coords[:-1], y_coords[:-1])\n",
    "    x_b, y_b = np.meshgrid(x_coords[1:], y_coords[1:])\n",
    "\n",
    "    grid_a = np.vstack((x_a.flatten(), y_a.flatten())).T\n",
    "    grid_b = np.vstack((x_b.flatten(), y_b.flatten())).T\n",
    "\n",
    "    x_a = distance.cdist(grid_a[:,0].reshape(-1,1), coords[:,0].reshape(-1,1),lambda u,v: v-u)\n",
    "    y_a = distance.cdist(grid_a[:,1].reshape(-1,1), coords[:,1].reshape(-1,1),lambda u,v: v-u)\n",
    "    \n",
    "    x_b = distance.cdist(grid_b[:,0].reshape(-1,1), coords[:,0].reshape(-1,1),lambda u,v: v-u)\n",
    "    y_b = distance.cdist(grid_b[:,1].reshape(-1,1), coords[:,1].reshape(-1,1),lambda u,v: v-u)\n",
    "\n",
    "    u_sub = np.sqrt(2) / (2 * variance)\n",
    "\n",
    "    err_x = (special.erf(u_sub * x_a) - special.erf(u_sub * x_b))\n",
    "    err_y = (special.erf(u_sub * y_a) - special.erf(u_sub * y_b))\n",
    "\n",
    "    out = np.multiply(err_x, err_y).sum(-1) / 4\n",
    "    out = out.reshape((grid_size,grid_size))\n",
    "    return out"
   ]
  },
  {
   "cell_type": "code",
   "execution_count": 466,
   "id": "eastern-walker",
   "metadata": {},
   "outputs": [],
   "source": [
    "out = coord_to_grid(coords, variance=0.03)"
   ]
  },
  {
   "cell_type": "code",
   "execution_count": 449,
   "id": "closing-welding",
   "metadata": {},
   "outputs": [
    {
     "name": "stdout",
     "output_type": "stream",
     "text": [
      "The resolution of the image (32, 32)\n"
     ]
    }
   ],
   "source": [
    "print(\"The resolution of the image\",out.shape)"
   ]
  },
  {
   "cell_type": "markdown",
   "id": "intensive-diversity",
   "metadata": {},
   "source": [
    "### Let's take a look at what the origina image looks like"
   ]
  },
  {
   "cell_type": "code",
   "execution_count": 450,
   "id": "swedish-effectiveness",
   "metadata": {},
   "outputs": [
    {
     "data": {
      "text/plain": [
       "<matplotlib.collections.PathCollection at 0x7f0d6432b130>"
      ]
     },
     "execution_count": 450,
     "metadata": {},
     "output_type": "execute_result"
    },
    {
     "data": {
      "image/png": "[encoded data removed]",
      "text/plain": [
       "<Figure size 720x720 with 1 Axes>"
      ]
     },
     "metadata": {
      "needs_background": "light"
     },
     "output_type": "display_data"
    }
   ],
   "source": [
    "plt.figure(figsize=(10,10))\n",
    "plt.imshow(out)\n",
    "plt.scatter(coords[:,0]*32, coords[:,1]*32, c='r', s=100)\n",
    "# plt.ylim(0,32)"
   ]
  },
  {
   "cell_type": "markdown",
   "id": "satisfactory-delay",
   "metadata": {},
   "source": [
    "## Backward Step: \n",
    "\n",
    "#### We want to be able to retrieve the original discrete representation of the atoms\n",
    "\n",
    "#### We will try to go from a (128,128) image to a (5,2) list"
   ]
  },
  {
   "cell_type": "markdown",
   "id": "determined-daniel",
   "metadata": {},
   "source": [
    "We start of with a simple thresholding"
   ]
  },
  {
   "cell_type": "code",
   "execution_count": 451,
   "id": "radio-sight",
   "metadata": {},
   "outputs": [
    {
     "name": "stdout",
     "output_type": "stream",
     "text": [
      "Quickly check the number of atoms:  9.0\n"
     ]
    }
   ],
   "source": [
    "print(\"Quickly check the number of atoms: \", np.ceil(out.sum()))"
   ]
  },
  {
   "cell_type": "markdown",
   "id": "drawn-snake",
   "metadata": {},
   "source": [
    "### Select the THRESHOLD starting points\n"
   ]
  },
  {
   "cell_type": "code",
   "execution_count": 452,
   "id": "reserved-print",
   "metadata": {},
   "outputs": [
    {
     "name": "stdout",
     "output_type": "stream",
     "text": [
      "Intial number of non zero values:  941\n",
      "Binarized Thresholded number of non zero values:  11\n"
     ]
    }
   ],
   "source": [
    "THRESHOLD = out.max() - 2*out.std()\n",
    "print(\"Intial number of non zero values: \", np.count_nonzero(out))\n",
    "out[out < THRESHOLD] = 0\n",
    "out[out > THRESHOLD] = 1\n",
    "print(\"Binarized Thresholded number of non zero values: \", np.count_nonzero(out))"
   ]
  },
  {
   "cell_type": "code",
   "execution_count": 453,
   "id": "reserved-diameter",
   "metadata": {},
   "outputs": [
    {
     "data": {
      "text/plain": [
       "<matplotlib.collections.PathCollection at 0x7f0d64341340>"
      ]
     },
     "execution_count": 453,
     "metadata": {},
     "output_type": "execute_result"
    },
    {
     "data": {
      "image/png": "[encoded data removed]",
      "text/plain": [
       "<Figure size 720x720 with 1 Axes>"
      ]
     },
     "metadata": {
      "needs_background": "light"
     },
     "output_type": "display_data"
    }
   ],
   "source": [
    "plt.figure(figsize=(10,10))\n",
    "plt.imshow(out)\n",
    "plt.scatter(coords[:,0]*32, coords[:,1]*32, c='r', s=100)"
   ]
  },
  {
   "cell_type": "code",
   "execution_count": 454,
   "id": "informational-imperial",
   "metadata": {},
   "outputs": [
    {
     "data": {
      "text/plain": [
       "(1, 13)"
      ]
     },
     "execution_count": 454,
     "metadata": {},
     "output_type": "execute_result"
    }
   ],
   "source": [
    "possible_atom = np.unravel_index(out.argmax(), (32,32))\n",
    "possible_atom"
   ]
  },
  {
   "cell_type": "code",
   "execution_count": 455,
   "id": "communist-masters",
   "metadata": {},
   "outputs": [],
   "source": [
    "atom_pos = []\n",
    "possible_atom = np.unravel_index(out.argmax(), (32,32))\n",
    "count = -1\n",
    "while out[possible_atom] > 0:\n",
    "    \n",
    "    atom_pos.append(possible_atom)\n",
    "    flood_fill(out, possible_atom, count , in_place=True)\n",
    "    possible_atom = np.unravel_index(out.argmax(), (32,32))\n",
    "\n",
    "    count -= 1"
   ]
  },
  {
   "cell_type": "code",
   "execution_count": 456,
   "id": "alive-anime",
   "metadata": {},
   "outputs": [
    {
     "name": "stdout",
     "output_type": "stream",
     "text": [
      "[[0.40625 0.03125]\n",
      " [0.9375  0.125  ]\n",
      " [0.      0.21875]\n",
      " [0.09375 0.28125]\n",
      " [0.03125 0.5625 ]\n",
      " [0.8125  0.5625 ]\n",
      " [0.71875 0.625  ]\n",
      " [0.03125 0.78125]]\n"
     ]
    }
   ],
   "source": [
    "atom_pos = np.array(atom_pos)\n",
    "print(atom_pos[:,[1,0]]/32)"
   ]
  },
  {
   "cell_type": "markdown",
   "id": "surprising-dietary",
   "metadata": {},
   "source": [
    "### First approximation of possible atom positions\n",
    "\n",
    "#### We can see that we are missing a few atoms still"
   ]
  },
  {
   "cell_type": "code",
   "execution_count": 457,
   "id": "jewish-arena",
   "metadata": {},
   "outputs": [
    {
     "data": {
      "text/plain": [
       "<matplotlib.collections.PathCollection at 0x7f0d65753070>"
      ]
     },
     "execution_count": 457,
     "metadata": {},
     "output_type": "execute_result"
    },
    {
     "data": {
      "image/png": "[encoded data removed]",
      "text/plain": [
       "<Figure size 720x720 with 1 Axes>"
      ]
     },
     "metadata": {
      "needs_background": "light"
     },
     "output_type": "display_data"
    }
   ],
   "source": [
    "plt.figure(figsize=(10,10))\n",
    "# plt.ylim(0,32)\n",
    "# plt.imshow(out)\n",
    "plt.scatter(coords[:,0]*32, coords[:,1]*32, c='r', s=100)\n",
    "plt.scatter(atom_pos[:,1], atom_pos[:,0], c='b', s=100)"
   ]
  },
  {
   "cell_type": "markdown",
   "id": "essential-wrist",
   "metadata": {},
   "source": [
    "## What does the grid look like from approximate coordinates?"
   ]
  },
  {
   "cell_type": "code",
   "execution_count": 458,
   "id": "jewish-musician",
   "metadata": {},
   "outputs": [
    {
     "name": "stdout",
     "output_type": "stream",
     "text": [
      "8\n"
     ]
    }
   ],
   "source": [
    "print(len(atom_pos))"
   ]
  },
  {
   "cell_type": "code",
   "execution_count": 459,
   "id": "passive-flexibility",
   "metadata": {},
   "outputs": [
    {
     "data": {
      "text/plain": [
       "<matplotlib.image.AxesImage at 0x7f0d652af7f0>"
      ]
     },
     "execution_count": 459,
     "metadata": {},
     "output_type": "execute_result"
    },
    {
     "data": {
      "image/png": "[encoded data removed]",
      "text/plain": [
       "<Figure size 720x720 with 1 Axes>"
      ]
     },
     "metadata": {
      "needs_background": "light"
     },
     "output_type": "display_data"
    }
   ],
   "source": [
    "partial_coords = atom_pos[:,[1,0]]/32\n",
    "partial_grid = coord_to_grid(partial_coords, variance=0.03)\n",
    "plt.figure(figsize=(10,10))\n",
    "# flood_fill(out, possible_atom, -1 , in_place=True)\n",
    "plt.imshow(partial_grid)"
   ]
  },
  {
   "cell_type": "markdown",
   "id": "possible-testament",
   "metadata": {},
   "source": [
    "### We can get the atoms missed in first pass"
   ]
  },
  {
   "cell_type": "code",
   "execution_count": 485,
   "id": "excessive-wisconsin",
   "metadata": {},
   "outputs": [
    {
     "data": {
      "text/plain": [
       "<matplotlib.image.AxesImage at 0x7f0d5c416f40>"
      ]
     },
     "execution_count": 485,
     "metadata": {},
     "output_type": "execute_result"
    },
    {
     "data": {
      "image/png": "[encoded data removed]",
      "text/plain": [
       "<Figure size 1512x504 with 3 Axes>"
      ]
     },
     "metadata": {
      "needs_background": "light"
     },
     "output_type": "display_data"
    }
   ],
   "source": [
    "out = coord_to_grid(coords, variance=0.03)\n",
    "new_grid = out - partial_grid\n",
    "THRESHOLD = new_grid.max() - 2*new_grid.std()\n",
    "\n",
    "fig, (ax1, ax2, ax3) = plt.subplots(1, 3, figsize=(21,7))\n",
    "# plt.ylim(0,32)\n",
    "ax1.imshow(out)\n",
    "ax2.imshow(partial_grid)\n",
    "\n",
    "\n",
    "# flood_fill(out, possible_atom, -1 , in_place=True)\n",
    "new_grid[new_grid < THRESHOLD] = 0\n",
    "new_grid[new_grid > THRESHOLD] = 1\n",
    "\n",
    "ax3.imshow(new_grid)"
   ]
  },
  {
   "cell_type": "code",
   "execution_count": 486,
   "id": "quick-suspension",
   "metadata": {},
   "outputs": [
    {
     "data": {
      "text/plain": [
       "493"
      ]
     },
     "execution_count": 486,
     "metadata": {},
     "output_type": "execute_result"
    }
   ],
   "source": [
    "new_grid.argmax()"
   ]
  },
  {
   "cell_type": "code",
   "execution_count": 487,
   "id": "weekly-booking",
   "metadata": {},
   "outputs": [
    {
     "name": "stdout",
     "output_type": "stream",
     "text": [
      "493\n",
      "0.13778763912396377\n",
      "0.1908499611382492\n",
      "[[13 15]\n",
      " [ 0 19]]\n"
     ]
    }
   ],
   "source": [
    "partial_pos = []\n",
    "possible_atom = np.unravel_index(new_grid.argmax(), (32,32))\n",
    "count = -1\n",
    "print(new_grid.argmax())\n",
    "while out[possible_atom] > 1e-6:\n",
    "    partial_pos.append(possible_atom)\n",
    "    print(out[possible_atom])\n",
    "    flood_fill(new_grid, possible_atom, count , in_place=True)\n",
    "    possible_atom = np.unravel_index(new_grid.argmax(), (32,32))\n",
    "partial_pos = np.array(partial_pos)\n",
    "print(partial_pos[:,[1,0]])"
   ]
  },
  {
   "cell_type": "markdown",
   "id": "medium-atlanta",
   "metadata": {},
   "source": [
    "# Our starting approximation of the atom positions"
   ]
  },
  {
   "cell_type": "code",
   "execution_count": 488,
   "id": "dense-richardson",
   "metadata": {},
   "outputs": [
    {
     "data": {
      "text/plain": [
       "<matplotlib.collections.PathCollection at 0x7f0d5d69a700>"
      ]
     },
     "execution_count": 488,
     "metadata": {},
     "output_type": "execute_result"
    },
    {
     "data": {
      "image/png": "[encoded data removed]",
      "text/plain": [
       "<Figure size 720x720 with 1 Axes>"
      ]
     },
     "metadata": {
      "needs_background": "light"
     },
     "output_type": "display_data"
    }
   ],
   "source": [
    "rem_coords = partial_pos[:,[1,0]] / 32\n",
    "\n",
    "total_coords = np.concatenate([rem_coords, partial_coords], axis=0)\n",
    "\n",
    "plt.figure(figsize=(10,10))\n",
    "# plt.ylim(0,32)\n",
    "# plt.imshow(out)\n",
    "plt.scatter(coords[:,0]*32, coords[:,1]*32, c='r', s=100)\n",
    "plt.scatter(total_coords[:,0]*32, total_coords[:,1]*32, c='b', s=100)"
   ]
  },
  {
   "cell_type": "markdown",
   "id": "conventional-productivity",
   "metadata": {},
   "source": [
    "## Can we optimize the approximate positions? \n",
    "\n",
    "### The projected positions are very close but not an exact match. We can treat finding the exact positions of the atoms as an optimization problem! \n",
    "### By differentiably generating grids from the approximate coordinates, we can then compare with the original grid. Minimizing the positions of the found coordinates such that the grids difference is minimized provides us with the best possible approximation of the points"
   ]
  },
  {
   "cell_type": "code",
   "execution_count": 546,
   "id": "funded-explorer",
   "metadata": {},
   "outputs": [],
   "source": [
    "def torch_err_approx(val):\n",
    "    \"\"\"Differentiable error function to use with Torch\n",
    "    \"\"\"\n",
    "    mask = val < 0\n",
    "    \n",
    "    with torch.no_grad():\n",
    "        _val = torch.zeros(val.shape)\n",
    "        _val[mask] = -2* val[mask] \n",
    "    n_val = val + _val\n",
    "    p = 0.3275911\n",
    "    a1 = 0.254829592\n",
    "    a2 = -0.284496736\n",
    "    a3 = 1.421413741\n",
    "    a4 = -1.453152027\n",
    "    a5 = 1.061405429\n",
    "    t = 1 / (1+p*n_val)\n",
    "    \n",
    "    t1 = a1 * t\n",
    "    t2 = a2 * (t**2)\n",
    "    t3 = a3 * (t**3)\n",
    "    t4 = a4 * (t**4)\n",
    "    t5 = a5 * (t**5)\n",
    "    \n",
    "    val_sq = torch.pow(n_val, 2)\n",
    "    \n",
    "    err_val = torch.tensor(1, dtype=torch.float) - (t1+t2+t3+t4+t5) * torch.exp(-val_sq).float()\n",
    "#     val[mask] = -1* val[mask]\n",
    "    with torch.no_grad():\n",
    "        _temp = torch.zeros(val.shape)\n",
    "        _temp[mask] = -2* err_val[mask]\n",
    "    out = err_val + _temp\n",
    "    return out"
   ]
  },
  {
   "cell_type": "code",
   "execution_count": 629,
   "id": "physical-sucking",
   "metadata": {},
   "outputs": [
    {
     "data": {
      "text/plain": [
       "array([[0.00192413, 0.60985667],\n",
       "       [0.06293158, 0.59751764],\n",
       "       [0.74213633, 0.63266676],\n",
       "       [0.10890221, 0.3105655 ],\n",
       "       [0.41594754, 0.49970422],\n",
       "       [0.00466858, 0.22350218],\n",
       "       [0.9508733 , 0.13151188],\n",
       "       [0.82260498, 0.56472471],\n",
       "       [0.41077732, 0.04255736],\n",
       "       [0.03633231, 0.80353265]])"
      ]
     },
     "execution_count": 629,
     "metadata": {},
     "output_type": "execute_result"
    }
   ],
   "source": [
    "coords"
   ]
  },
  {
   "cell_type": "code",
   "execution_count": 543,
   "id": "norman-director",
   "metadata": {},
   "outputs": [],
   "source": [
    "random_data = torch.rand((2,1024,2), dtype=torch.float, requires_grad=True) - 0.5"
   ]
  },
  {
   "cell_type": "markdown",
   "id": "moral-petersburg",
   "metadata": {},
   "source": [
    "## Check if function is close"
   ]
  },
  {
   "cell_type": "code",
   "execution_count": 547,
   "id": "coordinated-visiting",
   "metadata": {},
   "outputs": [
    {
     "name": "stdout",
     "output_type": "stream",
     "text": [
      "True\n",
      "[[[ 0.03080006 -0.24938034]\n",
      "  [ 0.14083861  0.18124922]\n",
      "  [ 0.48786557  0.2814336 ]\n",
      "  ...\n",
      "  [-0.37738574 -0.29725173]\n",
      "  [ 0.508396   -0.47032595]\n",
      "  [ 0.2811586  -0.48384887]]\n",
      "\n",
      " [[ 0.04006138  0.47936165]\n",
      "  [ 0.2854294   0.18496814]\n",
      "  [ 0.07403909  0.38897094]\n",
      "  ...\n",
      "  [-0.3701984  -0.11982581]\n",
      "  [-0.44861352 -0.3602888 ]\n",
      "  [-0.07668661  0.04225399]]]\n",
      "tensor([[[ 0.0308, -0.2494],\n",
      "         [ 0.1408,  0.1812],\n",
      "         [ 0.4879,  0.2814],\n",
      "         ...,\n",
      "         [-0.3774, -0.2973],\n",
      "         [ 0.5084, -0.4703],\n",
      "         [ 0.2812, -0.4838]],\n",
      "\n",
      "        [[ 0.0401,  0.4794],\n",
      "         [ 0.2854,  0.1850],\n",
      "         [ 0.0740,  0.3890],\n",
      "         ...,\n",
      "         [-0.3702, -0.1198],\n",
      "         [-0.4486, -0.3603],\n",
      "         [-0.0767,  0.0423]]])\n"
     ]
    }
   ],
   "source": [
    "_rand_data_numpy = random_data.detach().numpy()\n",
    "\n",
    "np_erf = special.erf(_rand_data_numpy)\n",
    "\n",
    "torch_erf = torch_err_approx(random_data)\n",
    "\n",
    "print(np.allclose(np_erf, torch_erf.detach().numpy(),rtol=1e-3, atol=1e-5))\n",
    "\n",
    "print(np_erf)\n",
    "print(torch_erf.detach())"
   ]
  },
  {
   "cell_type": "markdown",
   "id": "incomplete-reset",
   "metadata": {},
   "source": [
    "## Check if gradients work"
   ]
  },
  {
   "cell_type": "code",
   "execution_count": 548,
   "id": "continuing-oklahoma",
   "metadata": {},
   "outputs": [
    {
     "name": "stdout",
     "output_type": "stream",
     "text": [
      "True\n"
     ]
    }
   ],
   "source": [
    "torch.autograd.set_detect_anomaly(True)\n",
    "test = gradcheck(torch_err_approx,random_data, eps=1e-4, atol=1e-3, rtol=0.01) # Increase tolerance for floating point precision\n",
    "print(test)"
   ]
  },
  {
   "cell_type": "code",
   "execution_count": 549,
   "id": "excessive-monkey",
   "metadata": {},
   "outputs": [],
   "source": [
    "def get_grids(coords, variance=0.04, grid_size=32):\n",
    "    x_coords = np.linspace(0., 1, grid_size+1)\n",
    "    y_coords = np.linspace(0., 1, grid_size+1)\n",
    "\n",
    "    x_a, y_a = np.meshgrid(x_coords[:-1], y_coords[:-1])\n",
    "    x_b, y_b = np.meshgrid(x_coords[1:], y_coords[1:])\n",
    "\n",
    "    grid_a = np.vstack((x_a.flatten(), y_a.flatten())).T\n",
    "    grid_b = np.vstack((x_b.flatten(), y_b.flatten())).T\n",
    "\n",
    "    return grid_a, grid_b\n",
    "\n",
    "def custom_dist(coords, grid):\n",
    "    # Torch doesn't have the cdist we want to we resort to a loop\n",
    "    # Maybe a faster solution exists\n",
    "    \n",
    "    R = coords.size(0)\n",
    "    P = grid.size(0)\n",
    "    \n",
    "    dist_x = torch.zeros((R, P, 2)).float() \n",
    "    \n",
    "    for i,coord in enumerate(coords):\n",
    "        dist_x[i] = (coord - grid) \n",
    "    return dist_x\n",
    "    \n",
    "def diff_grid_generator(coords, grid_a, grid_b, variance=0.03):\n",
    "    \n",
    "    # N x 1024 x 2 \n",
    "    grid_a_dist = custom_dist(coords, grid_a)\n",
    "    grid_b_dist = custom_dist(coords, grid_b)\n",
    "    \n",
    "    u_sub = torch.sqrt(torch.tensor(2.0, requires_grad=True)) / (2 * variance)\n",
    "    \n",
    "    x_a_coords = grid_a_dist[:,:,0]\n",
    "    x_b_coords = grid_b_dist[:,:,0]\n",
    "    \n",
    "    y_a_coords = grid_a_dist[:,:,1]\n",
    "    y_b_coords = grid_b_dist[:,:,1]\n",
    "    err_x = (torch_err_approx(u_sub * x_a_coords) - torch_err_approx(u_sub * x_b_coords)) \n",
    "    err_y = (torch_err_approx(u_sub * y_a_coords) - torch_err_approx(u_sub * y_b_coords)) \n",
    "    \n",
    "    err = err_x * err_y / 4\n",
    "    \n",
    "    grid = torch.sum(err, dim=0)\n",
    "    grid = grid.reshape((32,32))\n",
    "    \n",
    "    return grid\n",
    "    "
   ]
  },
  {
   "cell_type": "markdown",
   "id": "blessed-treasurer",
   "metadata": {},
   "source": [
    "### Check if the gradient is computed correctly"
   ]
  },
  {
   "cell_type": "code",
   "execution_count": 550,
   "id": "unable-version",
   "metadata": {},
   "outputs": [],
   "source": [
    "random_data = torch.rand((10,2), dtype=torch.float, requires_grad=True)"
   ]
  },
  {
   "cell_type": "code",
   "execution_count": 553,
   "id": "blank-frequency",
   "metadata": {},
   "outputs": [
    {
     "name": "stdout",
     "output_type": "stream",
     "text": [
      "True\n"
     ]
    }
   ],
   "source": [
    "g_a, g_b = get_grids(random_data.detach().numpy())\n",
    "g_a, g_b = torch.from_numpy(g_a).float(), torch.from_numpy(g_b).float()\n",
    "test = gradcheck(diff_grid_generator,(random_data, g_a, g_b), eps=1e-4, atol=1e-3, rtol=0.01) # Increase tolerance for floating point precision\n",
    "print(test)"
   ]
  },
  {
   "cell_type": "markdown",
   "id": "average-tribe",
   "metadata": {},
   "source": [
    "## Optimizing Coords"
   ]
  },
  {
   "cell_type": "code",
   "execution_count": 646,
   "id": "psychological-amendment",
   "metadata": {},
   "outputs": [
    {
     "name": "stdout",
     "output_type": "stream",
     "text": [
      "tensor(8.8276, grad_fn=<SumBackward0>)\n",
      "8.827589944790912\n"
     ]
    }
   ],
   "source": [
    "g_a, g_b = get_grids(coords)\n",
    "\n",
    "torch_coords = torch.from_numpy(coords).float()\n",
    "\n",
    "g_a, g_b = torch.from_numpy(g_a).float(), torch.from_numpy(g_b).float()\n",
    "\n",
    "torch_grid = diff_grid_generator(torch_coords, g_a, g_b)\n",
    "\n",
    "print(torch_grid.sum())\n",
    "print(out.sum())"
   ]
  },
  {
   "cell_type": "markdown",
   "id": "sunrise-college",
   "metadata": {},
   "source": [
    "## Compare Differentiable and Original Grids"
   ]
  },
  {
   "cell_type": "code",
   "execution_count": 647,
   "id": "enclosed-southwest",
   "metadata": {},
   "outputs": [
    {
     "data": {
      "text/plain": [
       "Text(0.5, 1.0, 'Origial Grid')"
      ]
     },
     "execution_count": 647,
     "metadata": {},
     "output_type": "execute_result"
    },
    {
     "data": {
      "image/png": "[encoded data removed]",
      "text/plain": [
       "<Figure size 1440x720 with 2 Axes>"
      ]
     },
     "metadata": {
      "needs_background": "light"
     },
     "output_type": "display_data"
    }
   ],
   "source": [
    "fig, (ax1, ax2) = plt.subplots(1, 2, figsize=(20,10))\n",
    "ax1.imshow(torch_grid.clone().detach().numpy())\n",
    "ax2.imshow(out)\n",
    "\n",
    "ax1.set_title('Differentiable Grid')\n",
    "ax2.set_title('Origial Grid')"
   ]
  },
  {
   "cell_type": "code",
   "execution_count": 640,
   "id": "orange-dimension",
   "metadata": {},
   "outputs": [],
   "source": [
    "values = torch.from_numpy(out)\n",
    "torch_coords =  torch.tensor(total_coords,dtype=torch.float32,requires_grad=True)"
   ]
  },
  {
   "cell_type": "markdown",
   "id": "placed-theorem",
   "metadata": {},
   "source": [
    "## Compare Starting Grid and Original Grid"
   ]
  },
  {
   "cell_type": "code",
   "execution_count": 642,
   "id": "finite-chancellor",
   "metadata": {},
   "outputs": [
    {
     "data": {
      "image/png": "[encoded data removed]",
      "text/plain": [
       "<Figure size 1440x720 with 2 Axes>"
      ]
     },
     "metadata": {
      "needs_background": "light"
     },
     "output_type": "display_data"
    }
   ],
   "source": [
    "with torch.no_grad():\n",
    "    agrid = diff_grid_generator(torch_coords, g_a, g_b)\n",
    "    fig, (ax1, ax2) = plt.subplots(1, 2, figsize=(20,10))\n",
    "    ax1.imshow(agrid.numpy())\n",
    "    ax2.imshow(out)\n",
    "    ax1.set_title"
   ]
  },
  {
   "cell_type": "code",
   "execution_count": 609,
   "id": "acute-monday",
   "metadata": {},
   "outputs": [
    {
     "data": {
      "text/plain": [
       "{'lr': 0.01,\n",
       " 'momentum': 0,\n",
       " 'dampening': 0,\n",
       " 'weight_decay': 0,\n",
       " 'nesterov': False,\n",
       " 'params': [0]}"
      ]
     },
     "execution_count": 609,
     "metadata": {},
     "output_type": "execute_result"
    }
   ],
   "source": [
    "optimizer = torch.optim.SGD([torch_coords], lr=0.01)"
   ]
  },
  {
   "cell_type": "code",
   "execution_count": 610,
   "id": "short-knock",
   "metadata": {},
   "outputs": [
    {
     "name": "stdout",
     "output_type": "stream",
     "text": [
      "tensor(0.2209, grad_fn=<CopyBackwards>)\n",
      "tensor(0.0438, grad_fn=<CopyBackwards>)\n",
      "tensor(0.0052, grad_fn=<CopyBackwards>)\n",
      "tensor(0.0015, grad_fn=<CopyBackwards>)\n",
      "tensor(0.0007, grad_fn=<CopyBackwards>)\n",
      "tensor(0.0004, grad_fn=<CopyBackwards>)\n",
      "tensor(0.0002, grad_fn=<CopyBackwards>)\n",
      "tensor(0.0001, grad_fn=<CopyBackwards>)\n",
      "tensor(5.8362e-05, grad_fn=<CopyBackwards>)\n",
      "tensor(3.2370e-05, grad_fn=<CopyBackwards>)\n"
     ]
    }
   ],
   "source": [
    "updated_coords = [] \n",
    "updated_grids = []\n",
    "for i in range(10):\n",
    "    optimizer.zero_grad()\n",
    "    agrid = diff_grid_generator(torch_coords,g_a,g_b)       \n",
    "    loss = torch.square(agrid-values).sum().float()\n",
    "    loss.backward()\n",
    "\n",
    "    optimizer.step()\n",
    "\n",
    "    updated_grids.append(agrid.detach().numpy())\n",
    "\n",
    "    print(loss.item())\n",
    "    \n",
    "    updated_coords.append(torch_coords.clone().detach().numpy())"
   ]
  },
  {
   "cell_type": "code",
   "execution_count": 611,
   "id": "devoted-barrier",
   "metadata": {},
   "outputs": [
    {
     "data": {
      "text/plain": [
       "array([[-0.00371939, -0.01189384],\n",
       "       [-0.00146247,  0.00238186],\n",
       "       [-0.00113618, -0.00470417],\n",
       "       [-0.00342447, -0.00156872],\n",
       "       [-0.00532235, -0.00420685],\n",
       "       [-0.00697991, -0.0120737 ],\n",
       "       [-0.01948451, -0.01715493],\n",
       "       [-0.00379288,  0.00211394],\n",
       "       [-0.00810301, -0.00161976],\n",
       "       [-0.00299906, -0.0073843 ]], dtype=float32)"
      ]
     },
     "execution_count": 611,
     "metadata": {},
     "output_type": "execute_result"
    }
   ],
   "source": [
    "updated_coords[0] - updated_coords[-1]"
   ]
  },
  {
   "cell_type": "code",
   "execution_count": 648,
   "id": "sharp-individual",
   "metadata": {},
   "outputs": [
    {
     "data": {
      "text/plain": [
       "Text(0.5, 1.0, 'After Optimization')"
      ]
     },
     "execution_count": 648,
     "metadata": {},
     "output_type": "execute_result"
    },
    {
     "data": {
      "image/png": "[encoded data removed]",
      "text/plain": [
       "<Figure size 1440x720 with 2 Axes>"
      ]
     },
     "metadata": {
      "needs_background": "light"
     },
     "output_type": "display_data"
    }
   ],
   "source": [
    "fig, (ax1, ax2) = plt.subplots(1, 2, figsize=(20,10))\n",
    "ax1.imshow(updated_grids[0])\n",
    "ax2.imshow(updated_grids[-1])\n",
    "ax1.set_title('Before Optimization')\n",
    "ax2.set_title('After Optimization')"
   ]
  },
  {
   "cell_type": "code",
   "execution_count": 649,
   "id": "dressed-karen",
   "metadata": {},
   "outputs": [
    {
     "data": {
      "image/png": "[encoded data removed]",
      "text/plain": [
       "<Figure size 1440x720 with 2 Axes>"
      ]
     },
     "metadata": {
      "needs_background": "light"
     },
     "output_type": "display_data"
    }
   ],
   "source": [
    "with torch.no_grad():\n",
    "    agrid = diff_grid_generator(torch_coords,g_a,g_b)\n",
    "    fig, (ax1, ax2) = plt.subplots(1, 2, figsize=(20,10))\n",
    "    ax1.imshow(agrid)\n",
    "    ax2.imshow(out)\n",
    "    ax1.set_title('After Optimization')\n",
    "    ax2.set_title('Original')"
   ]
  },
  {
   "cell_type": "code",
   "execution_count": 650,
   "id": "acquired-faith",
   "metadata": {},
   "outputs": [
    {
     "data": {
      "text/plain": [
       "<matplotlib.legend.Legend at 0x7f0d5c391dc0>"
      ]
     },
     "execution_count": 650,
     "metadata": {},
     "output_type": "execute_result"
    },
    {
     "data": {
      "image/png": "[encoded data removed]",
      "text/plain": [
       "<Figure size 864x864 with 1 Axes>"
      ]
     },
     "metadata": {
      "needs_background": "light"
     },
     "output_type": "display_data"
    }
   ],
   "source": [
    "plt.figure(figsize=(12,12))\n",
    "plt.scatter(updated_coords[0][:,0]*32, updated_coords[0][:,1]*32,c='r', s=400, label='Initial')\n",
    "plt.scatter(updated_coords[-1][:,0]*32, updated_coords[-1][:,1]*32,c='b', s=400, label='Final')\n",
    "plt.scatter(coords[:,0]*32, coords[:,1]*32, c='g', s=200, label='Original')\n",
    "plt.legend()"
   ]
  },
  {
   "cell_type": "code",
   "execution_count": null,
   "id": "narrow-bishop",
   "metadata": {},
   "outputs": [],
   "source": []
  }
 ],
 "metadata": {
  "kernelspec": {
   "display_name": "Python 3",
   "language": "python",
   "name": "python3"
  },
  "language_info": {
   "codemirror_mode": {
    "name": "ipython",
    "version": 3
   },
   "file_extension": ".py",
   "mimetype": "text/x-python",
   "name": "python",
   "nbconvert_exporter": "python",
   "pygments_lexer": "ipython3",
   "version": "3.8.5"
  }
 },
 "nbformat": 4,
 "nbformat_minor": 5
}
